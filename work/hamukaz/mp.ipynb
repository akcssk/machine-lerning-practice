{
 "cells": [
  {
   "cell_type": "code",
   "execution_count": 1,
   "metadata": {},
   "outputs": [
    {
     "name": "stdout",
     "output_type": "stream",
     "text": [
      "[399.99988463 199.99996114]\n",
      "-1999.9994984688606\n"
     ]
    }
   ],
   "source": [
    "import numpy as np\n",
    "from scipy import optimize\n",
    "\n",
    "c = np.array([-3, -4], dtype = np.float64)\n",
    "G = np.array([[1, 4], [2, 3], [2, 1]], dtype = np.float64)\n",
    "h = np.array([1700, 1400, 1000], dtype = np.float64)\n",
    "sol = optimize.linprog(c, A_ub=G, b_ub=h, bounds=(0, None))\n",
    "print(sol.x)\n",
    "print(sol.fun)"
   ]
  },
  {
   "cell_type": "code",
   "execution_count": 3,
   "metadata": {},
   "outputs": [
    {
     "name": "stdout",
     "output_type": "stream",
     "text": [
      "[[ 2.22044605e-16]\n",
      " [-2.00000000e+00]]\n",
      "-4.0\n"
     ]
    }
   ],
   "source": [
    "import numpy as np\n",
    "import cvxopt\n",
    "\n",
    "p = cvxopt.matrix(np.array([[2, 1], [1, 2]], dtype=np.float64))\n",
    "q = cvxopt.matrix(np.array([2, 4], dtype=np.float64))\n",
    "\n",
    "sol = cvxopt.solvers.qp(p, q)\n",
    "print(np.array(sol[\"x\"]))\n",
    "print(np.array(sol[\"primal objective\"]))\n"
   ]
  },
  {
   "cell_type": "code",
   "execution_count": 5,
   "metadata": {},
   "outputs": [
    {
     "name": "stdout",
     "output_type": "stream",
     "text": [
      "[[ 1.]\n",
      " [-1.]]\n",
      "-1.0000000000000016\n"
     ]
    }
   ],
   "source": [
    "import numpy as np\n",
    "import cvxopt\n",
    "\n",
    "P = cvxopt.matrix(np.array([[2, 1], [1, 2]], dtype=np.float64))\n",
    "q = cvxopt.matrix(np.array([2, 4], dtype=np.float64))\n",
    "A = cvxopt.matrix(np.array([[1, 1]], dtype=np.float64))\n",
    "b = cvxopt.matrix(np.array([0], dtype=np.float64))\n",
    "\n",
    "sol = cvxopt.solvers.qp(P, q, A=A, b=b)\n",
    "print(np.array(sol[\"x\"]))\n",
    "print(np.array(sol[\"primal objective\"]))\n"
   ]
  },
  {
   "cell_type": "code",
   "execution_count": 6,
   "metadata": {},
   "outputs": [
    {
     "name": "stdout",
     "output_type": "stream",
     "text": [
      "     pcost       dcost       gap    pres   dres\n",
      " 0:  1.8858e+00  2.9758e-01  2e+00  5e-18  2e+00\n",
      " 1: -2.1066e+00 -2.1546e+00  5e-02  2e-16  7e-01\n",
      " 2: -3.9999e+00 -4.0665e+00  7e-02  3e-16  2e-16\n",
      " 3: -4.0000e+00 -4.0007e+00  7e-04  1e-15  1e-16\n",
      " 4: -4.0000e+00 -4.0000e+00  7e-06  3e-16  6e-17\n",
      " 5: -4.0000e+00 -4.0000e+00  7e-08  9e-16  2e-16\n",
      "Optimal solution found.\n",
      "[[-2.45940172e-09]\n",
      " [-2.00000001e+00]]\n",
      "-4.0\n"
     ]
    }
   ],
   "source": [
    "import numpy as np\n",
    "import cvxopt\n",
    "\n",
    "P = cvxopt.matrix(np.array([[2, 1], [1, 2]], dtype=np.float64))\n",
    "q = cvxopt.matrix(np.array([2, 4], dtype=np.float64))\n",
    "G = cvxopt.matrix(np.array([[2, 3]], dtype=np.float64))\n",
    "h = cvxopt.matrix(np.array([3], dtype=np.float64))\n",
    "\n",
    "sol = cvxopt.solvers.qp(P, q, G=G, h=h)\n",
    "print(np.array(sol[\"x\"]))\n",
    "print(np.array(sol[\"primal objective\"]))\n"
   ]
  },
  {
   "cell_type": "code",
   "execution_count": null,
   "metadata": {},
   "outputs": [],
   "source": [
    "import numpy as np\n",
    "import matplotlib.pyplot as plt\n",
    "import gd\n",
    "\n",
    "def f(xx):\n",
    "    x = xx[0]\n",
    "    y = xx[1]\n",
    "    return 5 * x**2 - 6 * x * y + 3 * y**2 + 6 * x - 6 * y\n",
    "\n",
    "def df(xx):\n",
    "    x = xx[0]\n",
    "    y = xx[1]\n",
    "    return np.array([10 * x - 6 *])"
   ]
  }
 ],
 "metadata": {
  "kernelspec": {
   "display_name": "Python 3",
   "language": "python",
   "name": "python3"
  },
  "language_info": {
   "codemirror_mode": {
    "name": "ipython",
    "version": 3
   },
   "file_extension": ".py",
   "mimetype": "text/x-python",
   "name": "python",
   "nbconvert_exporter": "python",
   "pygments_lexer": "ipython3",
   "version": "3.7.4"
  }
 },
 "nbformat": 4,
 "nbformat_minor": 4
}
