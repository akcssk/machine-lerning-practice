{
 "cells": [
  {
   "cell_type": "code",
   "execution_count": 1,
   "metadata": {},
   "outputs": [
    {
     "name": "stdout",
     "output_type": "stream",
     "text": [
      "2.1284190638445777\n",
      "0.20163967572340463\n",
      "-2.330058739567982\n",
      "1.7763568394002505e-15\n"
     ]
    }
   ],
   "source": [
    "def newton1dim(f, df, x0, eps=1e-10, max_iter=1000):\n",
    "    x = x0\n",
    "    iter = 0\n",
    "    while True:\n",
    "        x_new = x - f(x)/df(x)\n",
    "        if abs(x-x_new) < eps:\n",
    "            break\n",
    "        x = x_new\n",
    "        iter += 1\n",
    "        if iter == max_iter:\n",
    "            break\n",
    "    return x_new\n",
    "\n",
    "def f(x):\n",
    "    return x**3-5*x+1\n",
    "\n",
    "def df(x):\n",
    "    return 3*x**2-5\n",
    "\n",
    "print(newton1dim(f, df, 2))\n",
    "print(newton1dim(f, df, 0))\n",
    "print(newton1dim(f, df, -3))\n",
    "\n",
    "\n",
    "print(f(2))\n",
    "print(f(newton1dim(f, df, 2)))"
   ]
  },
  {
   "cell_type": "code",
   "execution_count": null,
   "metadata": {},
   "outputs": [],
   "source": []
  }
 ],
 "metadata": {
  "kernelspec": {
   "display_name": "Python 3",
   "language": "python",
   "name": "python3"
  },
  "language_info": {
   "codemirror_mode": {
    "name": "ipython",
    "version": 3
   },
   "file_extension": ".py",
   "mimetype": "text/x-python",
   "name": "python",
   "nbconvert_exporter": "python",
   "pygments_lexer": "ipython3",
   "version": "3.7.4"
  }
 },
 "nbformat": 4,
 "nbformat_minor": 4
}
